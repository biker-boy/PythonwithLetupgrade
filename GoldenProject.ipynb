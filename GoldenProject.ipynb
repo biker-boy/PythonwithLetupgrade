{
  "nbformat": 4,
  "nbformat_minor": 0,
  "metadata": {
    "colab": {
      "name": "GoldenProject.ipynb",
      "provenance": [],
      "collapsed_sections": []
    },
    "kernelspec": {
      "name": "python3",
      "display_name": "Python 3"
    }
  },
  "cells": [
    {
      "cell_type": "code",
      "metadata": {
        "id": "c7mIyk7kiF7N",
        "colab_type": "code",
        "outputId": "834250bb-1516-4fce-b684-f9c035b772a0",
        "colab": {
          "base_uri": "https://localhost:8080/",
          "height": 85
        }
      },
      "source": [
        "N = int(input()) #Temp Test Case\n",
        "if N>0 and N<105:\n",
        "    a=N\n",
        "    print(a)\n",
        "else:\n",
        "  print(\"invalid Temp Test Case\") \n",
        "T = int(input()) #Golden Project Begin\n",
        "x=T%12\n",
        "y=T//12\n",
        "z=13-x\n",
        "w=T/12\n",
        "if T>0 and T<109:\n",
        "  if(w==y):\n",
        "    a=((y-1)*12)+1\n",
        "  else:\n",
        "    a=(y*12)+z\n",
        "  if(T%6==0 or T%6==1):\n",
        "    r='WS'\n",
        "  elif(T%6==2 or T%6==5):\n",
        "    r='MS'\n",
        "  else:\n",
        "    r='AS'\n",
        "  print(a,r,sep=' ')\n",
        "else:\n",
        "  print(\"invalid seat number\")"
      ],
      "execution_count": 0,
      "outputs": [
        {
          "output_type": "stream",
          "text": [
            "896\n",
            "invalid Temp Test Case\n",
            "105\n",
            "100 AS\n"
          ],
          "name": "stdout"
        }
      ]
    },
    {
      "cell_type": "code",
      "metadata": {
        "id": "bFlpuYHYiGnC",
        "colab_type": "code",
        "colab": {}
      },
      "source": [
        ""
      ],
      "execution_count": 0,
      "outputs": []
    }
  ]
}