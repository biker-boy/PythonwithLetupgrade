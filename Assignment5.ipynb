{
  "nbformat": 4,
  "nbformat_minor": 0,
  "metadata": {
    "colab": {
      "name": "Assignment5.ipynb",
      "provenance": [],
      "collapsed_sections": []
    },
    "kernelspec": {
      "name": "python3",
      "display_name": "Python 3"
    }
  },
  "cells": [
    {
      "cell_type": "code",
      "metadata": {
        "id": "AoDd8gEeSnk9",
        "colab_type": "code",
        "colab": {}
      },
      "source": [
        "#Question No 1 : "
      ],
      "execution_count": 0,
      "outputs": []
    },
    {
      "cell_type": "code",
      "metadata": {
        "id": "mgbukhebWZXf",
        "colab_type": "code",
        "colab": {}
      },
      "source": [
        "file = open(\"Jigneshsaner.txt\",'w')\n",
        "\n",
        "file.write(\"I love FCS\")\n",
        "\n",
        "file.close()"
      ],
      "execution_count": 0,
      "outputs": []
    },
    {
      "cell_type": "code",
      "metadata": {
        "id": "Clx4wH7EW7sG",
        "colab_type": "code",
        "outputId": "eeeae8d4-17b4-401f-b966-142f6417a4d7",
        "colab": {
          "base_uri": "https://localhost:8080/",
          "height": 34
        }
      },
      "source": [
        "file = open(\"Jigneshsaner.txt\",'r')\n",
        "\n",
        "print(file.read())\n",
        "\n",
        "file.close()"
      ],
      "execution_count": 0,
      "outputs": [
        {
          "output_type": "stream",
          "text": [
            "I love FCS\n"
          ],
          "name": "stdout"
        }
      ]
    },
    {
      "cell_type": "code",
      "metadata": {
        "id": "r8TLqJHyVhwC",
        "colab_type": "code",
        "colab": {}
      },
      "source": [
        "#Question no 2 ; FCS Project "
      ],
      "execution_count": 0,
      "outputs": []
    },
    {
      "cell_type": "code",
      "metadata": {
        "id": "JiTOLCAiSpCf",
        "colab_type": "code",
        "colab": {}
      },
      "source": [
        "from IPython.display import clear_output\n",
        "\n",
        "def display_board(board):\n",
        "    clear_output()\n",
        "    print(' '+board[7]+' | '+board[8]+' | '+board[9]+' ')\n",
        "    print('---------')\n",
        "    print(' '+board[4]+' | '+board[5]+' | '+board[6]+' ')\n",
        "    print('---------')\n",
        "    print(' '+board[1]+' | '+board[2]+' | '+board[3]+' ')"
      ],
      "execution_count": 0,
      "outputs": []
    },
    {
      "cell_type": "code",
      "metadata": {
        "id": "6syv3PbCSqEf",
        "colab_type": "code",
        "colab": {}
      },
      "source": [
        "board = ['#','X','O','X','O','X','O','X','O','X','O']"
      ],
      "execution_count": 0,
      "outputs": []
    },
    {
      "cell_type": "code",
      "metadata": {
        "id": "EnmnlpVTSzFj",
        "colab_type": "code",
        "outputId": "cee9b7b1-fb6d-40a3-b9ad-bced8f063485",
        "colab": {
          "base_uri": "https://localhost:8080/",
          "height": 102
        }
      },
      "source": [
        "display_board(board)"
      ],
      "execution_count": 0,
      "outputs": [
        {
          "output_type": "stream",
          "text": [
            " X | O | X \n",
            "---------\n",
            " O | X | O \n",
            "---------\n",
            " X | O | X \n"
          ],
          "name": "stdout"
        }
      ]
    },
    {
      "cell_type": "code",
      "metadata": {
        "id": "wTTUrvOxS32X",
        "colab_type": "code",
        "colab": {}
      },
      "source": [
        "def player_input():\n",
        "    marker = ''\n",
        "    \n",
        "    while not (marker == 'X' or marker == \"O\"):\n",
        "        marker = input(\"Enter a Marker X/O for player one : \").upper()\n",
        "    \n",
        "    if marker == 'X':\n",
        "        return ('X','O')\n",
        "    else:\n",
        "        return ('O','X')"
      ],
      "execution_count": 0,
      "outputs": []
    },
    {
      "cell_type": "code",
      "metadata": {
        "id": "JxkKVfmDS7Vr",
        "colab_type": "code",
        "outputId": "48b37493-f29f-4c93-c161-8aecda4c913d",
        "colab": {
          "base_uri": "https://localhost:8080/",
          "height": 119
        }
      },
      "source": [
        "player_input()"
      ],
      "execution_count": 0,
      "outputs": [
        {
          "output_type": "stream",
          "text": [
            "Enter a Marker X/O for player one : \n",
            "Enter a Marker X/O for player one : \n",
            "Enter a Marker X/O for player one : \n",
            "Enter a Marker X/O for player one : 1\n",
            "Enter a Marker X/O for player one : X\n"
          ],
          "name": "stdout"
        },
        {
          "output_type": "execute_result",
          "data": {
            "text/plain": [
              "('X', 'O')"
            ]
          },
          "metadata": {
            "tags": []
          },
          "execution_count": 7
        }
      ]
    },
    {
      "cell_type": "code",
      "metadata": {
        "id": "HtL6gSulTOBJ",
        "colab_type": "code",
        "colab": {}
      },
      "source": [
        "def place_marker(board,marker,position):\n",
        "    board[position] = marker"
      ],
      "execution_count": 0,
      "outputs": []
    },
    {
      "cell_type": "code",
      "metadata": {
        "id": "n7mSHwVITBd9",
        "colab_type": "code",
        "colab": {}
      },
      "source": [
        "place_marker(board,\"X\",5)"
      ],
      "execution_count": 0,
      "outputs": []
    },
    {
      "cell_type": "code",
      "metadata": {
        "id": "eW9mVPAJTVW9",
        "colab_type": "code",
        "outputId": "a969c1ac-ef23-44aa-d370-20529113a4d1",
        "colab": {
          "base_uri": "https://localhost:8080/",
          "height": 102
        }
      },
      "source": [
        "display_board(board)\n"
      ],
      "execution_count": 0,
      "outputs": [
        {
          "output_type": "stream",
          "text": [
            " X | O | X \n",
            "---------\n",
            " O | X | O \n",
            "---------\n",
            " X | O | X \n"
          ],
          "name": "stdout"
        }
      ]
    },
    {
      "cell_type": "code",
      "metadata": {
        "id": "MU7ot3tFTlHB",
        "colab_type": "code",
        "colab": {}
      },
      "source": [
        "def win_check(board,marker):\n",
        "    \n",
        "    if( (board[7]==marker and board[8]==marker and board[9]==marker) or\n",
        "        (board[4]==marker and board[5]==marker and board[6]==marker) or\n",
        "        (board[1]==marker and board[2]==marker and board[3]==marker) or\n",
        "        (board[7]==marker and board[4]==marker and board[1]==marker) or\n",
        "        (board[8]==marker and board[5]==marker and board[2]==marker) or\n",
        "        (board[9]==marker and board[6]==marker and board[3]==marker) or\n",
        "        (board[7]==marker and board[5]==marker and board[3]==marker) or\n",
        "        (board[9]==marker and board[5]==marker and board[1]==marker)):\n",
        "        return True\n",
        "    else:\n",
        "        return False"
      ],
      "execution_count": 0,
      "outputs": []
    },
    {
      "cell_type": "code",
      "metadata": {
        "id": "54Zerbe0To_e",
        "colab_type": "code",
        "outputId": "ec089017-cd77-40ef-eccf-e085c8e90038",
        "colab": {
          "base_uri": "https://localhost:8080/",
          "height": 34
        }
      },
      "source": [
        "win_check(board,'X')"
      ],
      "execution_count": 0,
      "outputs": [
        {
          "output_type": "execute_result",
          "data": {
            "text/plain": [
              "True"
            ]
          },
          "metadata": {
            "tags": []
          },
          "execution_count": 14
        }
      ]
    },
    {
      "cell_type": "code",
      "metadata": {
        "id": "sBhJHT6WTrQk",
        "colab_type": "code",
        "outputId": "7bbabbf5-8ba5-470d-d50e-5d7158d6366e",
        "colab": {
          "base_uri": "https://localhost:8080/",
          "height": 34
        }
      },
      "source": [
        "win_check(board,'O')"
      ],
      "execution_count": 0,
      "outputs": [
        {
          "output_type": "execute_result",
          "data": {
            "text/plain": [
              "False"
            ]
          },
          "metadata": {
            "tags": []
          },
          "execution_count": 15
        }
      ]
    },
    {
      "cell_type": "code",
      "metadata": {
        "id": "lYZBzHQ_Ttos",
        "colab_type": "code",
        "colab": {}
      },
      "source": [
        "import random \n",
        "\n",
        "def choose_first():\n",
        "    num = random.randint(0,1)\n",
        "    \n",
        "    if num == 1:\n",
        "        return 'Player 1'\n",
        "    else:\n",
        "        return 'Player 2'"
      ],
      "execution_count": 0,
      "outputs": []
    },
    {
      "cell_type": "code",
      "metadata": {
        "id": "iFdPOBqvTxpe",
        "colab_type": "code",
        "outputId": "965a4891-1e6c-4e68-cf30-94069317987f",
        "colab": {
          "base_uri": "https://localhost:8080/",
          "height": 34
        }
      },
      "source": [
        "choose_first()"
      ],
      "execution_count": 0,
      "outputs": [
        {
          "output_type": "execute_result",
          "data": {
            "text/plain": [
              "'Player 2'"
            ]
          },
          "metadata": {
            "tags": []
          },
          "execution_count": 17
        }
      ]
    },
    {
      "cell_type": "code",
      "metadata": {
        "id": "_0ol4pXnTzzb",
        "colab_type": "code",
        "colab": {}
      },
      "source": [
        "board = ['#','X',' ',' ','O','X',' ','X',' ','X','O']"
      ],
      "execution_count": 0,
      "outputs": []
    },
    {
      "cell_type": "code",
      "metadata": {
        "id": "c6XD2hiUT2Ii",
        "colab_type": "code",
        "colab": {}
      },
      "source": [
        "def space_check(board,position):\n",
        "    return board[position] == ' '"
      ],
      "execution_count": 0,
      "outputs": []
    },
    {
      "cell_type": "code",
      "metadata": {
        "id": "2wEqaXXTT665",
        "colab_type": "code",
        "outputId": "474f652f-46dd-4541-9232-f06b30e22bd1",
        "colab": {
          "base_uri": "https://localhost:8080/",
          "height": 34
        }
      },
      "source": [
        "space_check(board,6)"
      ],
      "execution_count": 0,
      "outputs": [
        {
          "output_type": "execute_result",
          "data": {
            "text/plain": [
              "True"
            ]
          },
          "metadata": {
            "tags": []
          },
          "execution_count": 20
        }
      ]
    },
    {
      "cell_type": "code",
      "metadata": {
        "id": "1MmX4198T8-v",
        "colab_type": "code",
        "colab": {}
      },
      "source": [
        "def full_board_check(board):\n",
        "    isFull = True\n",
        "    for i in board:\n",
        "        if i == ' ':\n",
        "            isFull = False\n",
        "    return isFull"
      ],
      "execution_count": 0,
      "outputs": []
    },
    {
      "cell_type": "code",
      "metadata": {
        "id": "sRqM6XTJT_ni",
        "colab_type": "code",
        "outputId": "8636e67d-98e9-4d26-b7b5-0fc9b981fdfb",
        "colab": {
          "base_uri": "https://localhost:8080/",
          "height": 34
        }
      },
      "source": [
        "full_board_check(board)\n"
      ],
      "execution_count": 0,
      "outputs": [
        {
          "output_type": "execute_result",
          "data": {
            "text/plain": [
              "False"
            ]
          },
          "metadata": {
            "tags": []
          },
          "execution_count": 23
        }
      ]
    },
    {
      "cell_type": "code",
      "metadata": {
        "id": "8DnNhzC9UER5",
        "colab_type": "code",
        "colab": {}
      },
      "source": [
        "def full_board_check(board):\n",
        "    for i in range(1,10):\n",
        "        if space_check(board,i):\n",
        "            return False\n",
        "    return True"
      ],
      "execution_count": 0,
      "outputs": []
    },
    {
      "cell_type": "code",
      "metadata": {
        "id": "4HYJfUD7UMGR",
        "colab_type": "code",
        "outputId": "179b9c59-4479-4a17-fc8d-990b916734dd",
        "colab": {
          "base_uri": "https://localhost:8080/",
          "height": 34
        }
      },
      "source": [
        "full_board_check(board)"
      ],
      "execution_count": 0,
      "outputs": [
        {
          "output_type": "execute_result",
          "data": {
            "text/plain": [
              "False"
            ]
          },
          "metadata": {
            "tags": []
          },
          "execution_count": 25
        }
      ]
    },
    {
      "cell_type": "code",
      "metadata": {
        "id": "443OhIEeUOT2",
        "colab_type": "code",
        "colab": {}
      },
      "source": [
        "def players_choice(board):\n",
        "    position = 0\n",
        "    \n",
        "    while not position in [1,2,3,4,5,6,7,8,9] or not space_check(board,position) : \n",
        "        position = int(input(\"Enter your next position : \"))\n",
        "        \n",
        "    return position"
      ],
      "execution_count": 0,
      "outputs": []
    },
    {
      "cell_type": "code",
      "metadata": {
        "id": "liZ0outzUS2e",
        "colab_type": "code",
        "outputId": "ba6cfb1d-8376-48ef-db4d-ff2b359d4f39",
        "colab": {
          "base_uri": "https://localhost:8080/",
          "height": 85
        }
      },
      "source": [
        "players_choice(board)"
      ],
      "execution_count": 0,
      "outputs": [
        {
          "output_type": "stream",
          "text": [
            "Enter your next position : 4\n",
            "Enter your next position : 4\n",
            "Enter your next position : 2\n"
          ],
          "name": "stdout"
        },
        {
          "output_type": "execute_result",
          "data": {
            "text/plain": [
              "2"
            ]
          },
          "metadata": {
            "tags": []
          },
          "execution_count": 27
        }
      ]
    },
    {
      "cell_type": "code",
      "metadata": {
        "id": "fqlYk0ADUVGK",
        "colab_type": "code",
        "colab": {}
      },
      "source": [
        "def replay():\n",
        "    return input(\"Do you want to play again (Y/N) : \").lower().startswith('y')"
      ],
      "execution_count": 0,
      "outputs": []
    },
    {
      "cell_type": "code",
      "metadata": {
        "id": "xKqRh_G9UciY",
        "colab_type": "code",
        "outputId": "ca6eabd0-d79a-4edc-e2a0-fddca536192f",
        "colab": {
          "base_uri": "https://localhost:8080/",
          "height": 51
        }
      },
      "source": [
        "replay()"
      ],
      "execution_count": 0,
      "outputs": [
        {
          "output_type": "stream",
          "text": [
            "Do you want to play again (Y/N) : Y\n"
          ],
          "name": "stdout"
        },
        {
          "output_type": "execute_result",
          "data": {
            "text/plain": [
              "True"
            ]
          },
          "metadata": {
            "tags": []
          },
          "execution_count": 31
        }
      ]
    },
    {
      "cell_type": "code",
      "metadata": {
        "id": "eJo72HShUfQw",
        "colab_type": "code",
        "outputId": "3502df4f-22e7-4b3b-c6d9-c21abbbbc746",
        "colab": {
          "base_uri": "https://localhost:8080/",
          "height": 136
        }
      },
      "source": [
        "while True:\n",
        "    \n",
        "    board = [' ']* 10\n",
        "    \n",
        "    \n",
        "    player1_marker, player2_marker = player_input()\n",
        "    turn = choose_first()\n",
        "    \n",
        "    print(turn + \" Will play First\")\n",
        "    \n",
        "    play_game = input(\"Are you ready to play the game Y/N\").lower().startswith('y')\n",
        "    \n",
        "    if play_game:\n",
        "        game_on = True\n",
        "    else:\n",
        "        game_on = False\n",
        "    \n",
        "    while game_on:\n",
        "        if turn == 'Player 1':\n",
        "            # Game logic starts here for player 1 \n",
        "            \n",
        "            display_board(board)\n",
        "            position = players_choice(board)\n",
        "            place_marker(board,player1_marker,position)\n",
        "            \n",
        "            if win_check(board,player1_marker):\n",
        "                display_board(board)\n",
        "                print(\"Player 1 Won the game!! congratzz\")\n",
        "                game_on = False\n",
        "            else:\n",
        "                if full_board_check(board):\n",
        "                    display_board(board)\n",
        "                    print('The Game is Draw, Better luck next time !!')\n",
        "                    break\n",
        "                else:\n",
        "                    turn = \"Player 2\"\n",
        "        else:\n",
        "            # Player 2 Logic \n",
        "            \n",
        "            display_board(board)\n",
        "            position = players_choice(board)\n",
        "            place_marker(board,player2_marker,position)\n",
        "            \n",
        "            if win_check(board,player2_marker):\n",
        "                display_board(board)\n",
        "                print(\"Player 2 Won the game!! congratzz\")\n",
        "                game_on = False\n",
        "            else:\n",
        "                if full_board_check(board):\n",
        "                    display_board(board)\n",
        "                    print('The Game is Draw, Better luck next time !!')\n",
        "                    break\n",
        "                else:\n",
        "                    turn = \"Player 1\"\n",
        "    \n",
        "    if not replay():\n",
        "        break"
      ],
      "execution_count": 0,
      "outputs": [
        {
          "output_type": "stream",
          "text": [
            " X |   | O \n",
            "---------\n",
            " X | O |   \n",
            "---------\n",
            " X |   |   \n",
            "Player 1 Won the game!! congratzz\n",
            "Do you want to play again (Y/N) : N\n"
          ],
          "name": "stdout"
        }
      ]
    },
    {
      "cell_type": "code",
      "metadata": {
        "id": "KGqQX_rhU9Ml",
        "colab_type": "code",
        "colab": {}
      },
      "source": [
        ""
      ],
      "execution_count": 0,
      "outputs": []
    }
  ]
}