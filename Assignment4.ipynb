{
  "nbformat": 4,
  "nbformat_minor": 0,
  "metadata": {
    "colab": {
      "name": "Assignment4.ipynb",
      "provenance": [],
      "collapsed_sections": []
    },
    "kernelspec": {
      "name": "python3",
      "display_name": "Python 3"
    }
  },
  "cells": [
    {
      "cell_type": "code",
      "metadata": {
        "id": "LpNP554B9Z6F",
        "colab_type": "code",
        "outputId": "b2db4a83-5284-41f6-8cc4-3008f353d6da",
        "colab": {
          "base_uri": "https://localhost:8080/",
          "height": 187
        }
      },
      "source": [
        "#Function to get input from the user\n",
        "def getInput():\n",
        "    tempList=[]\n",
        "    i=0\n",
        "    while i < 8:\n",
        "        val = int(input(f\"Enter number {i+1}: \"))#search about formatted output in python for the \"f\" part\n",
        "        tempList.append(val)\n",
        "        i+=1\n",
        "    return tempList\n",
        "\n",
        "#function to check if the sublist exist in the superlist in the same order\n",
        "def check(a):\n",
        "    subList = [1,1,5]\n",
        "    for i in a:\n",
        "        for j in subList:\n",
        "            if(len(subList)>=0 and j == i):\n",
        "                subList.pop(0)\n",
        "            else:\n",
        "                break\n",
        "    \n",
        "    if len(subList)==0:\n",
        "        return \"It's a match\"\n",
        "    else:\n",
        "        return \"It's gone\"\n",
        "\n",
        "#Main\n",
        "supList = getInput()        \n",
        "print(\"Provided List is :\",supList)\n",
        "check(supList)"
      ],
      "execution_count": 0,
      "outputs": [
        {
          "output_type": "stream",
          "text": [
            "Enter number 1: 1\n",
            "Enter number 2: 5\n",
            "Enter number 3: 6\n",
            "Enter number 4: 4\n",
            "Enter number 5: 1\n",
            "Enter number 6: 2\n",
            "Enter number 7: 3\n",
            "Enter number 8: 5\n",
            "Provided List is : [1, 5, 6, 4, 1, 2, 3, 5]\n"
          ],
          "name": "stdout"
        },
        {
          "output_type": "execute_result",
          "data": {
            "text/plain": [
              "\"It's a match\""
            ]
          },
          "metadata": {
            "tags": []
          },
          "execution_count": 11
        }
      ]
    },
    {
      "cell_type": "code",
      "metadata": {
        "id": "eC1cy-sfAzqG",
        "colab_type": "code",
        "colab": {}
      },
      "source": [
        ""
      ],
      "execution_count": 0,
      "outputs": []
    },
    {
      "cell_type": "code",
      "metadata": {
        "id": "uYiEnFnp91Eh",
        "colab_type": "code",
        "colab": {}
      },
      "source": [
        "#Question no 2 : Solution "
      ],
      "execution_count": 0,
      "outputs": []
    },
    {
      "cell_type": "code",
      "metadata": {
        "id": "sp6d-ur6_gPC",
        "colab_type": "code",
        "outputId": "0dac1b7e-ae86-4dd6-9b29-708ba8ea95f0",
        "colab": {
          "base_uri": "https://localhost:8080/",
          "height": 136
        }
      },
      "source": [
        "num1 = input(\"First Number:\\n\")\n",
        "operator = input(\"Operator (+, -, *, /):\\n\")\n",
        "num2 = input(\"Second Number:\\n\")\n",
        "\n",
        "num1 = float(num1)\n",
        "num2 = float(num2)\n",
        "\n",
        "out = None\n",
        "\n",
        "if operator == \"+\":\n",
        "    out =  num1 + num2\n",
        "elif operator == \"-\":\n",
        "    out = num1 - num2\n",
        "elif operator == \"*\":\n",
        "    out = num1 * num2\n",
        "elif operator == \"/\":\n",
        "    out = num1 / num2\n",
        "    \n",
        "print(\"Answer: \" + str(out))"
      ],
      "execution_count": 0,
      "outputs": [
        {
          "output_type": "stream",
          "text": [
            "First Number:\n",
            "1\n",
            "Operator (+, -, *, /):\n",
            "+\n",
            "Second Number:\n",
            "34\n",
            "Answer: 35.0\n"
          ],
          "name": "stdout"
        }
      ]
    },
    {
      "cell_type": "code",
      "metadata": {
        "id": "ODNhwCyp_hKO",
        "colab_type": "code",
        "colab": {}
      },
      "source": [
        ""
      ],
      "execution_count": 0,
      "outputs": []
    }
  ]
}