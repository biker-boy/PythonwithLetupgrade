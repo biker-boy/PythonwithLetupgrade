{
  "nbformat": 4,
  "nbformat_minor": 0,
  "metadata": {
    "colab": {
      "name": "Assignment3day.ipynb",
      "provenance": [],
      "collapsed_sections": []
    },
    "kernelspec": {
      "name": "python3",
      "display_name": "Python 3"
    }
  },
  "cells": [
    {
      "cell_type": "code",
      "metadata": {
        "id": "LdDmWbrnRLV7",
        "colab_type": "code",
        "colab": {}
      },
      "source": [
        "#Question No 1 : solution "
      ],
      "execution_count": 0,
      "outputs": []
    },
    {
      "cell_type": "code",
      "metadata": {
        "id": "Zto_7mp8RUSg",
        "colab_type": "code",
        "outputId": "560ae132-b07c-4ab2-a783-6fa6b977f0c1",
        "colab": {
          "base_uri": "https://localhost:8080/",
          "height": 85
        }
      },
      "source": [
        "Mark = int ( input (\"enter Student mark - \"))\n",
        "\n",
        "print (\"|-------|\")\n",
        "if (Mark>=80):\n",
        "    print(\"|   A    |\")\n",
        "elif (Mark>=70 and Mark <= 79):\n",
        "    print(\"|   B    |\")\n",
        "elif (Mark>=60 and Mark <= 69):\n",
        "    print(\"|   C    |\")\n",
        "elif (Mark>=50 and Mark <= 59):\n",
        "    print(\"|   D    |\")\n",
        "elif (Mark>=35 and Mark <= 49):\n",
        "    print(\"|   E    |\")\n",
        "else:\n",
        "    print(\"| Fail |\")\n",
        "\n",
        "print (\"|-------|\")"
      ],
      "execution_count": 0,
      "outputs": [
        {
          "output_type": "stream",
          "text": [
            "enter Student mark - 55\n",
            "|-------|\n",
            "|   D    |\n",
            "|-------|\n"
          ],
          "name": "stdout"
        }
      ]
    },
    {
      "cell_type": "code",
      "metadata": {
        "id": "4aLlBwwlUPFJ",
        "colab_type": "code",
        "colab": {}
      },
      "source": [
        "#Question No 3 : Solution"
      ],
      "execution_count": 0,
      "outputs": []
    },
    {
      "cell_type": "code",
      "metadata": {
        "id": "P-ewlwTtXkSp",
        "colab_type": "code",
        "outputId": "89fa6777-2bf2-425f-fc03-7137e97b0ec4",
        "colab": {
          "base_uri": "https://localhost:8080/",
          "height": 153
        }
      },
      "source": [
        "n = int(input(\"Enter no of attempt to upload ?\"))\n",
        " \n",
        "l = int(input(\"Enter the min Length ?\"))\n",
        "\n",
        "curent_operation = 0\n",
        "while(curent_operation<n):\n",
        "    curent_operation += 1\n",
        "    \n",
        "    h = int(input(\"Enter height of photo ?\"))\n",
        "    w = int(input(\"Enter width of photo ?\"))\n",
        "    \n",
        "    if ( h>= l and w >=l):\n",
        "        if(h==w):\n",
        "            print(\"Accepted\")\n",
        "        else:\n",
        "            print(\"Crop it\")\n",
        "    else:\n",
        "        print(\"minimum photo size requirement - \", l )"
      ],
      "execution_count": 0,
      "outputs": [
        {
          "output_type": "stream",
          "text": [
            "Enter no of attempt to upload ?2\n",
            "Enter the min Length ?45\n",
            "Enter height of photo ?45\n",
            "Enter width of photo ?45\n",
            "Accepted\n",
            "Enter height of photo ?58\n",
            "Enter width of photo ?68\n",
            "Crop it\n"
          ],
          "name": "stdout"
        }
      ]
    },
    {
      "cell_type": "code",
      "metadata": {
        "id": "h6XwS3CzXlZB",
        "colab_type": "code",
        "colab": {}
      },
      "source": [
        "#Question no 4 : Solution"
      ],
      "execution_count": 0,
      "outputs": []
    },
    {
      "cell_type": "code",
      "metadata": {
        "id": "-yuILeC2bYK5",
        "colab_type": "code",
        "outputId": "a771d2dc-a99d-4812-d4c8-05175f86167f",
        "colab": {
          "base_uri": "https://localhost:8080/",
          "height": 255
        }
      },
      "source": [
        "ankit_x = 0 \n",
        "ankit_y = 0 \n",
        "\n",
        "max_move = 0\n",
        "\n",
        "while(max_move <=5):\n",
        "    max_move += 1\n",
        "    command = input(\"Enter input - ankit to move - \")\n",
        "    command = command.lower()\n",
        "    \n",
        "    if(command == \"i\"):\n",
        "        ankit_x += -1\n",
        "    elif (command == \"r\"):\n",
        "        ankit_x += +1\n",
        "    elif (command == \"u\"):\n",
        "        ankit_y += 1\n",
        "    elif( command == \"d\"):\n",
        "        ankit_y -= 1\n",
        "    else: \n",
        "        print(\"Enter valid input, L,R,U,D\")\n",
        "    \n",
        "    print(\"ankit is here - \", ankit_x, ankit_y)"
      ],
      "execution_count": 0,
      "outputs": [
        {
          "output_type": "stream",
          "text": [
            "Enter input - ankit to move - L\n",
            "Enter valid input, L,R,U,D\n",
            "ankit is here -  0 0\n",
            "Enter input - ankit to move - R\n",
            "ankit is here -  1 0\n",
            "Enter input - ankit to move - R\n",
            "ankit is here -  2 0\n",
            "Enter input - ankit to move - R\n",
            "ankit is here -  3 0\n",
            "Enter input - ankit to move - U\n",
            "ankit is here -  3 1\n",
            "Enter input - ankit to move - \n",
            "Enter valid input, L,R,U,D\n",
            "ankit is here -  3 1\n"
          ],
          "name": "stdout"
        }
      ]
    },
    {
      "cell_type": "code",
      "metadata": {
        "id": "xkWzBpTkbqnL",
        "colab_type": "code",
        "colab": {}
      },
      "source": [
        "#Question no 2 Solution is not avaialble - Not Able to solve "
      ],
      "execution_count": 0,
      "outputs": []
    },
    {
      "cell_type": "code",
      "metadata": {
        "id": "3T5665nUdyCG",
        "colab_type": "code",
        "outputId": "e53895b7-0eca-4ced-f1c7-f10701aba861",
        "colab": {
          "base_uri": "https://localhost:8080/",
          "height": 68
        }
      },
      "source": [
        "from random import randint \n",
        "\n",
        "computer_generated_team_india_score = randint(1,250)\n",
        "print(\"Computer Generated Team India Cricket Score - \",computer_generated_team_india_score)\n",
        "\n",
        "#Guessing module --- \n",
        "while True:\n",
        "    user_input = int(input(\"enter your guess \"))\n",
        "    if(user_input>=1 and user_input<=300):\n",
        "        break\n",
        "    else:\n",
        "        print(\"Reduce your expectation for 20-20 Cricket. Enter your number again\")\n",
        "\n",
        "#Checking whether the number is near by yes or no \n",
        "difference = abs(user_input - computer_generated_team_india_score)\n",
        "\n",
        "if ( difference <=10 and difference >=1):\n",
        "    print(\"Close by, you are True Indian Fan!\")\n",
        "else:\n",
        "    print(\"You are not a true Indian Fan!\")"
      ],
      "execution_count": 0,
      "outputs": [
        {
          "output_type": "stream",
          "text": [
            "Computer Generated Team India Cricket Score -  210\n",
            "enter your guess 190\n",
            "You are not a true Indian Fan!\n"
          ],
          "name": "stdout"
        }
      ]
    },
    {
      "cell_type": "code",
      "metadata": {
        "id": "g7nxNv0U8Vsb",
        "colab_type": "code",
        "colab": {}
      },
      "source": [
        ""
      ],
      "execution_count": 0,
      "outputs": []
    }
  ]
}